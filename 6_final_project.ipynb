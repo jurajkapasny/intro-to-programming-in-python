{
 "cells": [
  {
   "cell_type": "markdown",
   "metadata": {},
   "source": [
    "# Final Project\n",
    "\n",
    "Analysis of songs and artists from spotify that can be obtained from [Spotify's API](https://developer.spotify.com/documentation/web-api/). We can also use data **Archive.zip** that are in our repository."
   ]
  },
  {
   "cell_type": "code",
   "execution_count": null,
   "metadata": {},
   "outputs": [],
   "source": []
  },
  {
   "cell_type": "code",
   "execution_count": 1,
   "metadata": {},
   "outputs": [],
   "source": [
    "import pandas as pd\n",
    "\n",
    "tracks = pd.read_csv(\"data/tracks.csv\")\n",
    "artists = pd.read_csv(\"data/artists.csv\")"
   ]
  },
  {
   "cell_type": "markdown",
   "metadata": {},
   "source": [
    "## Familiarize yourself with the datasets"
   ]
  },
  {
   "cell_type": "markdown",
   "metadata": {},
   "source": [
    "Some information about selected variables from the dataset tracks:\n",
    "- acousticness: The relative metric of the track being acoustic, (Ranges from 0 to 1)\n",
    "- danceability: The relative measurement of the track being danceable, (Ranges from 0 to 1)\n",
    "- energy: The energy of the track, (Ranges from 0 to 1)\n",
    "- duration_ms: The length of the track in milliseconds (ms), (Integer typically ranging from 200k to 300k)\n",
    "- instrumentalness:, The relative ratio of the track being instrumental, (Ranges from 0 to 1)\n",
    "- valence: The positiveness of the track, (Ranges from 0 to 1)\n",
    "- popularity: The popularity of the song lately, default country = US, (Ranges from 0 to 100)\n",
    "- tempo:The tempo of the track in Beat Per Minute (BPM), (Float typically ranging from 50 to 150)\n",
    "- liveness: The relative duration of the track sounding as a live performance, (Ranges from 0 to 1)\n",
    "- loudness: Relative loudness of the track in decibel (dB), (Float typically ranging from -60 to 0)\n",
    "- speechiness: The relative length of the track containing any kind of human voice, (Ranges from 0 to 1)\n",
    "- key: The primary key of the track encoded as integers in between 0 and 11 (starting on C as 0, C# as 1 and so on…)\n",
    "- artists: The list of artists credited for production of the track\n",
    "- release_date: Date of release mostly in yyyy-mm-dd format, however precision of date may vary\n",
    "- name: The title of the track\n",
    "- mode: The binary value representing whether the track starts with a major (1) chord progression or a minor (0)"
   ]
  },
  {
   "cell_type": "code",
   "execution_count": 3,
   "metadata": {},
   "outputs": [],
   "source": [
    "# play around with the data sets here:"
   ]
  },
  {
   "cell_type": "code",
   "execution_count": null,
   "metadata": {},
   "outputs": [],
   "source": []
  },
  {
   "cell_type": "code",
   "execution_count": null,
   "metadata": {},
   "outputs": [],
   "source": []
  },
  {
   "cell_type": "code",
   "execution_count": null,
   "metadata": {},
   "outputs": [],
   "source": []
  },
  {
   "cell_type": "markdown",
   "metadata": {},
   "source": [
    "**Task**: Plot a line chart to see how different song metrics evolve in time:\n",
    "- per year\n",
    "- per decade\n",
    "\n",
    "Time should be on the **axis x** and metric on **y**"
   ]
  },
  {
   "cell_type": "code",
   "execution_count": null,
   "metadata": {},
   "outputs": [],
   "source": []
  },
  {
   "cell_type": "code",
   "execution_count": null,
   "metadata": {},
   "outputs": [],
   "source": []
  },
  {
   "cell_type": "markdown",
   "metadata": {},
   "source": [
    "**Task**: Visualize how music genres change in time. [(visualization from lecture)](https://plotly.com/python/filled-area-plots/#stacked-area-chart-with-normalized-values)\n",
    "- per year\n",
    "\n"
   ]
  },
  {
   "cell_type": "code",
   "execution_count": null,
   "metadata": {},
   "outputs": [],
   "source": []
  },
  {
   "cell_type": "code",
   "execution_count": null,
   "metadata": {},
   "outputs": [],
   "source": []
  },
  {
   "cell_type": "markdown",
   "metadata": {},
   "source": [
    "## Use Pandas and Data Visualization Libraries to extract following information from the data?"
   ]
  },
  {
   "cell_type": "markdown",
   "metadata": {},
   "source": [
    "**Question 1:** In order to write a popular song, is the key and mode of the song important?"
   ]
  },
  {
   "cell_type": "code",
   "execution_count": null,
   "metadata": {},
   "outputs": [],
   "source": []
  },
  {
   "cell_type": "code",
   "execution_count": null,
   "metadata": {},
   "outputs": [],
   "source": []
  },
  {
   "cell_type": "markdown",
   "metadata": {},
   "source": [
    "**Question 2:** 1955-1960: The popularity level climbs up - Who are the most famous artists at this time?"
   ]
  },
  {
   "cell_type": "code",
   "execution_count": null,
   "metadata": {},
   "outputs": [],
   "source": []
  },
  {
   "cell_type": "code",
   "execution_count": null,
   "metadata": {},
   "outputs": [],
   "source": []
  },
  {
   "cell_type": "markdown",
   "metadata": {},
   "source": [
    "**Question 3:** Which actual top artists write/have the most popular songs?"
   ]
  },
  {
   "cell_type": "code",
   "execution_count": null,
   "metadata": {},
   "outputs": [],
   "source": []
  },
  {
   "cell_type": "code",
   "execution_count": null,
   "metadata": {},
   "outputs": [],
   "source": []
  },
  {
   "cell_type": "markdown",
   "metadata": {},
   "source": [
    "**Question 4:** How do you become a famous song writer?\n",
    "- what genres do you sing?\n",
    "- is your music fast/energetic?\n",
    "- ...."
   ]
  },
  {
   "cell_type": "code",
   "execution_count": null,
   "metadata": {},
   "outputs": [],
   "source": []
  },
  {
   "cell_type": "code",
   "execution_count": null,
   "metadata": {},
   "outputs": [],
   "source": []
  },
  {
   "cell_type": "markdown",
   "metadata": {},
   "source": [
    "**Question 5:** What are those songs with high popularity but zero tempo, zero danceability and zero speechiness?"
   ]
  },
  {
   "cell_type": "code",
   "execution_count": null,
   "metadata": {},
   "outputs": [],
   "source": []
  },
  {
   "cell_type": "code",
   "execution_count": null,
   "metadata": {},
   "outputs": [],
   "source": []
  }
 ],
 "metadata": {
  "kernelspec": {
   "display_name": "Python 3",
   "language": "python",
   "name": "python3"
  },
  "language_info": {
   "codemirror_mode": {
    "name": "ipython",
    "version": 3
   },
   "file_extension": ".py",
   "mimetype": "text/x-python",
   "name": "python",
   "nbconvert_exporter": "python",
   "pygments_lexer": "ipython3",
   "version": "3.7.6"
  }
 },
 "nbformat": 4,
 "nbformat_minor": 4
}
