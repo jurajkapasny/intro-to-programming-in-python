{
 "cells": [
  {
   "cell_type": "markdown",
   "metadata": {},
   "source": [
    "# Stretch Info"
   ]
  },
  {
   "cell_type": "markdown",
   "metadata": {},
   "source": [
    "## Exception handling\n",
    "Exceptions are raised when your program encounters an error (something in the program goes wrong).\n",
    "\n",
    "Keywords to remember:\n",
    "- **try** \n",
    "- **except**\n",
    "- **finally**\n",
    "- **raise**\n",
    "\n",
    "All types of exceptions can be found [here](https://www.tutorialspoint.com/python/standard_exceptions.htm)."
   ]
  },
  {
   "cell_type": "markdown",
   "metadata": {},
   "source": [
    "### What could cause an exception?"
   ]
  },
  {
   "cell_type": "code",
   "execution_count": null,
   "metadata": {},
   "outputs": [],
   "source": [
    "a = 5\n",
    "b = 0"
   ]
  },
  {
   "cell_type": "code",
   "execution_count": null,
   "metadata": {},
   "outputs": [],
   "source": [
    "# error\n",
    "result = a/b"
   ]
  },
  {
   "cell_type": "code",
   "execution_count": null,
   "metadata": {},
   "outputs": [],
   "source": [
    "# proper way\n",
    "try: \n",
    "    result = a/b\n",
    "except Exception as e:\n",
    "    print('Errod occured!')\n",
    "    print(e)"
   ]
  },
  {
   "cell_type": "code",
   "execution_count": null,
   "metadata": {},
   "outputs": [],
   "source": [
    "a=5\n",
    "b='s'\n",
    "\n",
    "try: \n",
    "    result = a/b\n",
    "except ZeroDivisionError:\n",
    "    print('Division by zero!!')\n",
    "except Exception as e:\n",
    "    print('Other type of error occured!!')\n",
    "    print(e)\n"
   ]
  },
  {
   "cell_type": "code",
   "execution_count": null,
   "metadata": {},
   "outputs": [],
   "source": [
    "a=5\n",
    "b='d'\n",
    "\n",
    "try: \n",
    "    result = a/b\n",
    "except Exception as e:\n",
    "    print('Exception occured!!')\n",
    "    print(e)\n",
    "else:\n",
    "    print('Code passed without exception.')\n",
    "    print('Result is:',result)\n",
    "finally:\n",
    "    print('Always executed block.')"
   ]
  },
  {
   "cell_type": "code",
   "execution_count": null,
   "metadata": {},
   "outputs": [],
   "source": [
    "# function that throws an exception if email does not contain @\n",
    "def verify_email_address(address):\n",
    "    if '@' not in address:\n",
    "        raise Exception(f\"Emial address '{address}' is not valid!\")"
   ]
  },
  {
   "cell_type": "code",
   "execution_count": null,
   "metadata": {},
   "outputs": [],
   "source": [
    "# function that throws an exception if email length is smaller than 'length' parameter\n",
    "def verify_email_length(address, length=8):\n",
    "    if len(address) < length:\n",
    "        raise Exception(f'Length of address {address} is shorther than {length}.')"
   ]
  },
  {
   "cell_type": "code",
   "execution_count": null,
   "metadata": {},
   "outputs": [],
   "source": [
    "# test emails\n",
    "emails = ['abc@gmail.com', 'bcd@yahoo.com', 'not_valid_email.com','abc@com']"
   ]
  },
  {
   "cell_type": "code",
   "execution_count": null,
   "metadata": {},
   "outputs": [],
   "source": [
    "for address in emails:\n",
    "    try:\n",
    "        verify_email_address(address=address)\n",
    "        verify_email_length(address=address, length=10)\n",
    "    except Exception as e:\n",
    "        print(e)\n",
    "    else:\n",
    "        print(f'All verifications passed. {address} is a valid email!')"
   ]
  },
  {
   "cell_type": "code",
   "execution_count": null,
   "metadata": {},
   "outputs": [],
   "source": []
  },
  {
   "cell_type": "markdown",
   "metadata": {
    "tags": []
   },
   "source": [
    "## Date and Time\n",
    "\n",
    "Two most popular packages:\n",
    "* **time**\n",
    "* **datetime**\n",
    "\n",
    "You can find string format code list [here](https://strftime.org/)."
   ]
  },
  {
   "cell_type": "code",
   "execution_count": null,
   "metadata": {},
   "outputs": [],
   "source": [
    "# import package\n",
    "import time"
   ]
  },
  {
   "cell_type": "code",
   "execution_count": null,
   "metadata": {},
   "outputs": [],
   "source": [
    "# sleep between prints\n",
    "print('First line...')\n",
    "time.sleep(5)\n",
    "print('Second line...')"
   ]
  },
  {
   "cell_type": "code",
   "execution_count": null,
   "metadata": {},
   "outputs": [],
   "source": [
    "# function that takes indefinite number of arguments and print them with delay\n",
    "def print_arguments_with_delay(*args, delay=1):\n",
    "    for a in args:\n",
    "        print(a)\n",
    "        print(f'Waiting {delay} seconds!')\n",
    "        time.sleep(delay)"
   ]
  },
  {
   "cell_type": "code",
   "execution_count": null,
   "metadata": {},
   "outputs": [],
   "source": [
    "print_arguments_with_delay(1,2,4,5,delay=1)"
   ]
  },
  {
   "cell_type": "code",
   "execution_count": null,
   "metadata": {},
   "outputs": [],
   "source": [
    "# import package\n",
    "# 'dt' is often used as alias for datetime package\n",
    "import datetime as dt"
   ]
  },
  {
   "cell_type": "code",
   "execution_count": null,
   "metadata": {},
   "outputs": [],
   "source": [
    "# today's date\n",
    "today = dt.date.today()\n",
    "today"
   ]
  },
  {
   "cell_type": "code",
   "execution_count": null,
   "metadata": {},
   "outputs": [],
   "source": [
    "# actual time\n",
    "now = dt.datetime.now()\n",
    "now"
   ]
  },
  {
   "cell_type": "code",
   "execution_count": null,
   "metadata": {},
   "outputs": [],
   "source": [
    "# day\n",
    "now.day"
   ]
  },
  {
   "cell_type": "code",
   "execution_count": null,
   "metadata": {},
   "outputs": [],
   "source": [
    "# month\n",
    "now.month"
   ]
  },
  {
   "cell_type": "code",
   "execution_count": null,
   "metadata": {},
   "outputs": [],
   "source": [
    "# year\n",
    "now.year"
   ]
  },
  {
   "cell_type": "code",
   "execution_count": null,
   "metadata": {},
   "outputs": [],
   "source": [
    "# isoformat from dateime\n",
    "now.isoformat()"
   ]
  },
  {
   "cell_type": "code",
   "execution_count": null,
   "metadata": {},
   "outputs": [],
   "source": [
    "# time formating\n",
    "now.strftime('%Y:%B:%d-%A')"
   ]
  },
  {
   "cell_type": "code",
   "execution_count": null,
   "metadata": {},
   "outputs": [],
   "source": [
    "# time formating\n",
    "now.strftime('%m%Y')"
   ]
  },
  {
   "cell_type": "code",
   "execution_count": null,
   "metadata": {},
   "outputs": [],
   "source": [
    "# create datetime and print isoformat\n",
    "dt.datetime(2020,1,1,10,30,15).isoformat()"
   ]
  },
  {
   "cell_type": "code",
   "execution_count": null,
   "metadata": {},
   "outputs": [],
   "source": [
    "# create date ann convert to isoformat\n",
    "dt.date(2021,4,5).isoformat()"
   ]
  },
  {
   "cell_type": "code",
   "execution_count": null,
   "metadata": {},
   "outputs": [],
   "source": [
    "# timedelta\n",
    "yesterday = dt.date.today() - dt.timedelta(days=1)\n",
    "yesterday"
   ]
  },
  {
   "cell_type": "code",
   "execution_count": null,
   "metadata": {},
   "outputs": [],
   "source": [
    "# function that returns last x dates from date passed as parameter\n",
    "def last_x_days_from_date(date=None, x=100):\n",
    "    if date is None:\n",
    "        date = dt.date.today()\n",
    "    \n",
    "    dates = []\n",
    "    for i in range(1,x+1):\n",
    "        day_in_past = date - dt.timedelta(days=i)\n",
    "        dates.append(day_in_past.isoformat())\n",
    "    \n",
    "    # more pythonic solution\n",
    "    # dates = [(date - dt.timedelta(days=i)).isoformat() for i in range(1,x+1)]\n",
    "    \n",
    "    return dates"
   ]
  },
  {
   "cell_type": "code",
   "execution_count": null,
   "metadata": {},
   "outputs": [],
   "source": [
    "dates = last_x_days_from_date(date=dt.date(2020,1,1), x=20)\n",
    "dates"
   ]
  },
  {
   "cell_type": "code",
   "execution_count": null,
   "metadata": {},
   "outputs": [],
   "source": [
    "# function that returns list of dates between from_date and to_date params\n",
    "def get_dates_between(from_date, to_date):\n",
    "    days_diff = (to_date - from_date).days\n",
    "    \n",
    "    dates = [(to_date - dt.timedelta(days=i)).isoformat() for i in range(days_diff+1)]\n",
    "    \n",
    "    return dates"
   ]
  },
  {
   "cell_type": "code",
   "execution_count": null,
   "metadata": {},
   "outputs": [],
   "source": [
    "from_date = dt.date(2021,4,1)\n",
    "to_date = dt.date.today()"
   ]
  },
  {
   "cell_type": "code",
   "execution_count": null,
   "metadata": {},
   "outputs": [],
   "source": [
    "to_date - from_date"
   ]
  },
  {
   "cell_type": "code",
   "execution_count": null,
   "metadata": {},
   "outputs": [],
   "source": [
    "dates = get_dates_between(from_date, to_date)\n",
    "dates"
   ]
  },
  {
   "cell_type": "code",
   "execution_count": null,
   "metadata": {},
   "outputs": [],
   "source": [
    "dates_to_convert = ['20210625', '2021-08-14','2021-06', '25062021']"
   ]
  },
  {
   "cell_type": "code",
   "execution_count": null,
   "metadata": {},
   "outputs": [],
   "source": [
    "# function that try to convert string to datetime according to available paterns\n",
    "def parse_date(date, paterns=None):\n",
    "    if paterns is None:\n",
    "        paterns = ['%Y%m%d', '%Y-%m-%d']\n",
    "        \n",
    "    for patern in paterns:\n",
    "        try:\n",
    "            return dt.datetime.strptime(date, patern).date()\n",
    "        except:\n",
    "            pass\n",
    "    \n",
    "    return dt.date(2000,1,1)"
   ]
  },
  {
   "cell_type": "code",
   "execution_count": null,
   "metadata": {},
   "outputs": [],
   "source": [
    "for d in dates_to_convert:\n",
    "    print(parse_date(d))"
   ]
  },
  {
   "cell_type": "code",
   "execution_count": null,
   "metadata": {},
   "outputs": [],
   "source": [
    "# more pythonic way\n",
    "dates_parsed = [parse_date(d) for d in dates_to_convert]"
   ]
  },
  {
   "cell_type": "code",
   "execution_count": null,
   "metadata": {},
   "outputs": [],
   "source": [
    "# first element year\n",
    "dates_parsed[0].year"
   ]
  },
  {
   "cell_type": "code",
   "execution_count": null,
   "metadata": {},
   "outputs": [],
   "source": []
  },
  {
   "cell_type": "code",
   "execution_count": null,
   "metadata": {},
   "outputs": [],
   "source": []
  }
 ],
 "metadata": {
  "kernelspec": {
   "display_name": "Python 3 (ipykernel)",
   "language": "python",
   "name": "python3"
  },
  "language_info": {
   "codemirror_mode": {
    "name": "ipython",
    "version": 3
   },
   "file_extension": ".py",
   "mimetype": "text/x-python",
   "name": "python",
   "nbconvert_exporter": "python",
   "pygments_lexer": "ipython3",
   "version": "3.9.7"
  }
 },
 "nbformat": 4,
 "nbformat_minor": 4
}
