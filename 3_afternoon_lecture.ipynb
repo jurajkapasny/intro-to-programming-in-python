{
 "cells": [
  {
   "cell_type": "markdown",
   "metadata": {},
   "source": [
    "# Afternoon Lecture"
   ]
  },
  {
   "cell_type": "markdown",
   "metadata": {},
   "source": [
    "## Conditionals\n",
    "\n",
    "Python supports the usual logical conditions from mathematics:\n",
    "\n",
    "- Equals: a == b\n",
    "- Not Equals: a != b\n",
    "- Less than: a < b\n",
    "- Less than or equal to: a <= b\n",
    "- Greater than: a > b\n",
    "- Greater than or equal to: a >= b\n",
    "\n",
    "These conditions can be used in several ways, most commonly in \"if statements\" and loops."
   ]
  },
  {
   "cell_type": "code",
   "execution_count": null,
   "metadata": {},
   "outputs": [],
   "source": [
    "# assign variables\n",
    "a = 0\n",
    "b = 5"
   ]
  },
  {
   "cell_type": "code",
   "execution_count": null,
   "metadata": {},
   "outputs": [],
   "source": [
    "# if statement syntax\n",
    "if b>0:\n",
    "    print('is greater than 0')"
   ]
  },
  {
   "cell_type": "code",
   "execution_count": null,
   "metadata": {},
   "outputs": [],
   "source": [
    "# if statement syntax\n",
    "if a < b:\n",
    "    print('a is smaller than b')\n",
    "else:\n",
    "    print('a is not smaller than b')\n",
    "\n",
    "print('print statement after IF')"
   ]
  },
  {
   "cell_type": "code",
   "execution_count": null,
   "metadata": {},
   "outputs": [],
   "source": [
    "# if statement syntax\n",
    "if b > 1:\n",
    "    print('is bigger than 1')\n",
    "elif b > 2:\n",
    "    print('is bigger than 2')\n",
    "else:\n",
    "    print('is smaller than 1')"
   ]
  },
  {
   "cell_type": "code",
   "execution_count": null,
   "metadata": {},
   "outputs": [],
   "source": [
    "# if statement syntax\n",
    "if b > 1:\n",
    "    print('is bigger than 1')\n",
    "if b > 2:\n",
    "    print('is bigger than 2')\n",
    "else:\n",
    "    print('is smaller than 1')"
   ]
  },
  {
   "cell_type": "code",
   "execution_count": null,
   "metadata": {},
   "outputs": [],
   "source": [
    "# if statement syntax with multiple conditionals in the same branch\n",
    "if (a > -1) and (b > -1):\n",
    "    print('a and b are both greater than -1')"
   ]
  },
  {
   "cell_type": "code",
   "execution_count": null,
   "metadata": {},
   "outputs": [],
   "source": [
    "# if statement syntax with multiple conditionals in the same branch\n",
    "if (a > 0) or (b > 0):\n",
    "    print('a or b is greater than 0')"
   ]
  },
  {
   "cell_type": "code",
   "execution_count": null,
   "metadata": {},
   "outputs": [],
   "source": [
    "# evaluate integer as boolean\n",
    "if a:\n",
    "    print('exists')"
   ]
  },
  {
   "cell_type": "code",
   "execution_count": null,
   "metadata": {},
   "outputs": [],
   "source": [
    "# evaluate integer as boolean\n",
    "if b:\n",
    "    print('exists')"
   ]
  },
  {
   "cell_type": "code",
   "execution_count": null,
   "metadata": {},
   "outputs": [],
   "source": [
    "# evaluate list as boolean\n",
    "lst = []\n",
    "if lst:\n",
    "    print('list is not empty')"
   ]
  },
  {
   "cell_type": "code",
   "execution_count": null,
   "metadata": {},
   "outputs": [],
   "source": [
    "# one line if \n",
    "number = -5\n",
    "is_positive = True if number > 0 else False\n",
    "is_positive"
   ]
  },
  {
   "cell_type": "code",
   "execution_count": null,
   "metadata": {},
   "outputs": [],
   "source": [
    "# same logic as example above\n",
    "number = -5\n",
    "if number > 0:\n",
    "    is_positive = True\n",
    "else:\n",
    "    is_positive=False\n",
    "is_positive"
   ]
  },
  {
   "cell_type": "markdown",
   "metadata": {},
   "source": [
    "## While loop\n",
    "With the while loop we can execute a set of statements as long as a condition is true.\n",
    "\n",
    "- **break**  - can stop the loop even if the while condition is true.\n",
    "- **continue** - can stop the current iteration, and continue with the next."
   ]
  },
  {
   "cell_type": "code",
   "execution_count": null,
   "metadata": {},
   "outputs": [],
   "source": [
    "# while loop minimal example\n",
    "iteration = 0\n",
    "while iteration < 10:\n",
    "    iteration += 1\n",
    "    print(iteration)"
   ]
  },
  {
   "cell_type": "code",
   "execution_count": null,
   "metadata": {},
   "outputs": [],
   "source": [
    "# continue in a while loop\n",
    "iteration = 0\n",
    "while iteration < 10:\n",
    "    iteration += 1\n",
    "    \n",
    "    if iteration in [2,3,4]:\n",
    "        continue\n",
    "        \n",
    "    print(iteration)\n",
    "    "
   ]
  },
  {
   "cell_type": "code",
   "execution_count": null,
   "metadata": {},
   "outputs": [],
   "source": [
    "# break in a while loop\n",
    "iteration = 0\n",
    "while iteration < 10:\n",
    "    iteration += 1\n",
    "    \n",
    "    if iteration % 3 == 0:\n",
    "        break\n",
    "        \n",
    "    print(iteration)"
   ]
  },
  {
   "cell_type": "code",
   "execution_count": null,
   "metadata": {},
   "outputs": [],
   "source": [
    "# indefinite number of loops\n",
    "import numpy as np\n",
    "\n",
    "while True:\n",
    "    random_number = np.random.randint(100)\n",
    "    print(random_number)\n",
    "    \n",
    "    if random_number > 50 and random_number < 55:\n",
    "        break"
   ]
  },
  {
   "cell_type": "markdown",
   "metadata": {},
   "source": [
    "## For loop\n",
    "\n",
    "Is used for iterating over a sequence (that is either a list, a tuple, a dictionary, a set, or a string). We can execute a set of statements, once for each item in a list, tuple, set etc.\n",
    "- **break**  - can stop the loop even if the while condition is true.\n",
    "- **continue** - can stop the current iteration, and continue with the next."
   ]
  },
  {
   "cell_type": "code",
   "execution_count": null,
   "metadata": {},
   "outputs": [],
   "source": [
    "# for loop with list\n",
    "items = ['bag', 'desk', 'PC', 'sofa']\n",
    "\n",
    "for item in items:\n",
    "    print(item)"
   ]
  },
  {
   "cell_type": "code",
   "execution_count": null,
   "metadata": {},
   "outputs": [],
   "source": [
    "# continue in a for loop\n",
    "items = ['bag', 'desk', 'PC', 'sofa']\n",
    "\n",
    "for item in items:\n",
    "    \n",
    "    if item == 'PC':\n",
    "        continue\n",
    "    \n",
    "    print(item)"
   ]
  },
  {
   "cell_type": "code",
   "execution_count": null,
   "metadata": {},
   "outputs": [],
   "source": [
    "# break in a for loop\n",
    "items = ['bag', 'desk', 'PC', 'sofa']\n",
    "\n",
    "for item in items:\n",
    "    print(item)\n",
    "    \n",
    "    if item == 'PC':\n",
    "        break"
   ]
  },
  {
   "cell_type": "code",
   "execution_count": null,
   "metadata": {},
   "outputs": [],
   "source": [
    "# for loop with a dictionary\n",
    "dct = {\n",
    "    'key_1': 'value_1',\n",
    "    'key_2': 'value_2',\n",
    "    'key_3': 'value_3'\n",
    "}\n",
    "\n",
    "for key in dct:\n",
    "    print(key)"
   ]
  },
  {
   "cell_type": "code",
   "execution_count": null,
   "metadata": {},
   "outputs": [],
   "source": [
    "# for loop with a dictionary\n",
    "for key in dct:\n",
    "    value = dct[key]\n",
    "    print(value)"
   ]
  },
  {
   "cell_type": "code",
   "execution_count": null,
   "metadata": {},
   "outputs": [],
   "source": [
    "# for loop with a dictionary values\n",
    "for key in dct.values():\n",
    "    print(key)"
   ]
  },
  {
   "cell_type": "code",
   "execution_count": null,
   "metadata": {},
   "outputs": [],
   "source": [
    "# for loop with a dictionary items \n",
    "for key, value in dct.items():\n",
    "    print(key, value)"
   ]
  },
  {
   "cell_type": "code",
   "execution_count": null,
   "metadata": {},
   "outputs": [],
   "source": [
    "# for loop with a string\n",
    "string = 'something'\n",
    "for letter in string:\n",
    "    print(letter)\n",
    "    "
   ]
  },
  {
   "cell_type": "code",
   "execution_count": null,
   "metadata": {},
   "outputs": [],
   "source": [
    "# for loop with range\n",
    "for i in range(2,10):\n",
    "    print(i)"
   ]
  },
  {
   "cell_type": "code",
   "execution_count": null,
   "metadata": {},
   "outputs": [],
   "source": [
    "# iterating with index\n",
    "items = ['bag', 'desk', 'PC', 'sofa']\n",
    "index = 0\n",
    "\n",
    "for item in items:\n",
    "    print(index, item)\n",
    "    \n",
    "    index += 1"
   ]
  },
  {
   "cell_type": "code",
   "execution_count": null,
   "metadata": {},
   "outputs": [],
   "source": [
    "# iterating with index improved\n",
    "items = ['bag', 'desk', 'PC', 'sofa']\n",
    "\n",
    "for index, item in enumerate(items):\n",
    "    print(index, item)\n"
   ]
  },
  {
   "cell_type": "code",
   "execution_count": null,
   "metadata": {},
   "outputs": [],
   "source": [
    "# create tuples with index, value\n",
    "list(enumerate(items))"
   ]
  },
  {
   "cell_type": "code",
   "execution_count": null,
   "metadata": {},
   "outputs": [],
   "source": [
    "# enumerate explanation\n",
    "items = ['bag', 'desk', 'PC', 'sofa']\n",
    "\n",
    "for tpl in enumerate(items):\n",
    "    print(tpl, tpl[0], tpl[1])"
   ]
  },
  {
   "cell_type": "code",
   "execution_count": null,
   "metadata": {},
   "outputs": [],
   "source": []
  },
  {
   "cell_type": "code",
   "execution_count": null,
   "metadata": {},
   "outputs": [],
   "source": []
  },
  {
   "cell_type": "markdown",
   "metadata": {},
   "source": [
    "# Exception handling\n",
    "Exceptions are raised when your program encounters an error (something in the program goes wrong).\n",
    "\n",
    "Keywords to remember:\n",
    "- **try** \n",
    "- **except**\n",
    "- **finally**\n",
    "- **raise**\n",
    "\n",
    "All types of exceptions can be found [here](https://www.tutorialspoint.com/python/standard_exceptions.htm)."
   ]
  },
  {
   "cell_type": "markdown",
   "metadata": {},
   "source": [
    "## What could cause an exception?"
   ]
  },
  {
   "cell_type": "code",
   "execution_count": null,
   "metadata": {},
   "outputs": [],
   "source": [
    "a = 5\n",
    "b = 0"
   ]
  },
  {
   "cell_type": "code",
   "execution_count": null,
   "metadata": {},
   "outputs": [],
   "source": [
    "# error\n",
    "result = a/b"
   ]
  },
  {
   "cell_type": "code",
   "execution_count": null,
   "metadata": {},
   "outputs": [],
   "source": [
    "# proper way\n",
    "try: \n",
    "    result = a/b\n",
    "except Exception as e:\n",
    "    print('Errod occured!')\n",
    "    print(e)"
   ]
  },
  {
   "cell_type": "code",
   "execution_count": null,
   "metadata": {},
   "outputs": [],
   "source": [
    "a=5\n",
    "b='s'\n",
    "\n",
    "try: \n",
    "    result = a/b\n",
    "except ZeroDivisionError:\n",
    "    print('Division by zero!!')\n",
    "except Exception as e:\n",
    "    print('Other type of error occured!!')\n",
    "    print(e)\n"
   ]
  },
  {
   "cell_type": "code",
   "execution_count": null,
   "metadata": {},
   "outputs": [],
   "source": [
    "a=5\n",
    "b='d'\n",
    "\n",
    "try: \n",
    "    result = a/b\n",
    "except Exception as e:\n",
    "    print('Exception occured!!')\n",
    "    print(e)\n",
    "else:\n",
    "    print('Code passed without exception.')\n",
    "    print('Result is:',result)\n",
    "finally:\n",
    "    print('Always executed block.')"
   ]
  },
  {
   "cell_type": "code",
   "execution_count": null,
   "metadata": {},
   "outputs": [],
   "source": [
    "# function that throws an exception if email does not contain @\n",
    "def verify_email_address(address):\n",
    "    if '@' not in address:\n",
    "        raise Exception(f\"Emial address '{address}' is not valid!\")"
   ]
  },
  {
   "cell_type": "code",
   "execution_count": null,
   "metadata": {},
   "outputs": [],
   "source": [
    "# function that throws an exception if email length is smaller than 'length' parameter\n",
    "def verify_email_length(address, length=8):\n",
    "    if len(address) < length:\n",
    "        raise Exception(f'Length of address {address} is shorther than {length}.')"
   ]
  },
  {
   "cell_type": "code",
   "execution_count": null,
   "metadata": {},
   "outputs": [],
   "source": [
    "# test emails\n",
    "emails = ['abc@gmail.com', 'bcd@yahoo.com', 'not_valid_email.com','abc@com']"
   ]
  },
  {
   "cell_type": "code",
   "execution_count": null,
   "metadata": {},
   "outputs": [],
   "source": [
    "for address in emails:\n",
    "    try:\n",
    "        verify_email_address(address=address)\n",
    "        verify_email_length(address=address, length=10)\n",
    "    except Exception as e:\n",
    "        print(e)\n",
    "    else:\n",
    "        print(f'All verifications passed. {address} is a valid email!')"
   ]
  },
  {
   "cell_type": "code",
   "execution_count": null,
   "metadata": {},
   "outputs": [],
   "source": []
  },
  {
   "cell_type": "code",
   "execution_count": null,
   "metadata": {},
   "outputs": [],
   "source": []
  }
 ],
 "metadata": {
  "kernelspec": {
   "display_name": "Python 3",
   "language": "python",
   "name": "python3"
  },
  "language_info": {
   "codemirror_mode": {
    "name": "ipython",
    "version": 3
   },
   "file_extension": ".py",
   "mimetype": "text/x-python",
   "name": "python",
   "nbconvert_exporter": "python",
   "pygments_lexer": "ipython3",
   "version": "3.7.6"
  }
 },
 "nbformat": 4,
 "nbformat_minor": 4
}
